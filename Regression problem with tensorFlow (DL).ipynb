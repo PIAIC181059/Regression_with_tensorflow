{
 "cells": [
  {
   "cell_type": "code",
   "execution_count": 1,
   "id": "b10f7900",
   "metadata": {},
   "outputs": [
    {
     "name": "stdout",
     "output_type": "stream",
     "text": [
      "2.11.0\n"
     ]
    }
   ],
   "source": [
    "import tensorflow as tf\n",
    "print(tf.__version__)\n",
    "     "
   ]
  },
  {
   "cell_type": "markdown",
   "id": "a6150649",
   "metadata": {},
   "source": [
    "'HELLO WORLD'"
   ]
  },
  {
   "cell_type": "markdown",
   "id": "2406ce5e",
   "metadata": {},
   "source": [
    "<img src = \"https://www.tensorflow.org/tutorials/customization/images/full_network_penguin.png\">"
   ]
  },
  {
   "cell_type": "markdown",
   "id": "c04fc941",
   "metadata": {},
   "source": [
    "<img src = \"https://dezyre.gumlet.io/images/blog/keras-vs-tensorflow-the-differences/image_66838020531627072456558.png?w=330&dpr=2.6\">"
   ]
  },
  {
   "cell_type": "code",
   "execution_count": 2,
   "id": "dcf074c3",
   "metadata": {},
   "outputs": [],
   "source": [
    "from tensorflow.keras.models import Sequential\n",
    "from tensorflow.keras.layers import Dense\n",
    "from tensorflow.keras.optimizers import SGD, Adam"
   ]
  },
  {
   "cell_type": "code",
   "execution_count": 3,
   "id": "75e074cd",
   "metadata": {},
   "outputs": [],
   "source": [
    "import pandas as pd\n",
    "import matplotlib.pyplot as plt\n",
    "import numpy as np"
   ]
  },
  {
   "cell_type": "code",
   "execution_count": 4,
   "id": "b1d2a1f9",
   "metadata": {},
   "outputs": [],
   "source": [
    "df = pd.read_csv(\"weight-height.csv\")"
   ]
  },
  {
   "cell_type": "code",
   "execution_count": 5,
   "id": "9b10dbdf",
   "metadata": {},
   "outputs": [
    {
     "data": {
      "text/html": [
       "<div>\n",
       "<style scoped>\n",
       "    .dataframe tbody tr th:only-of-type {\n",
       "        vertical-align: middle;\n",
       "    }\n",
       "\n",
       "    .dataframe tbody tr th {\n",
       "        vertical-align: top;\n",
       "    }\n",
       "\n",
       "    .dataframe thead th {\n",
       "        text-align: right;\n",
       "    }\n",
       "</style>\n",
       "<table border=\"1\" class=\"dataframe\">\n",
       "  <thead>\n",
       "    <tr style=\"text-align: right;\">\n",
       "      <th></th>\n",
       "      <th>Gender</th>\n",
       "      <th>Height</th>\n",
       "      <th>Weight</th>\n",
       "    </tr>\n",
       "  </thead>\n",
       "  <tbody>\n",
       "    <tr>\n",
       "      <th>0</th>\n",
       "      <td>Male</td>\n",
       "      <td>73.847017</td>\n",
       "      <td>241.893563</td>\n",
       "    </tr>\n",
       "    <tr>\n",
       "      <th>1</th>\n",
       "      <td>Male</td>\n",
       "      <td>68.781904</td>\n",
       "      <td>162.310473</td>\n",
       "    </tr>\n",
       "    <tr>\n",
       "      <th>2</th>\n",
       "      <td>Male</td>\n",
       "      <td>74.110105</td>\n",
       "      <td>212.740856</td>\n",
       "    </tr>\n",
       "    <tr>\n",
       "      <th>3</th>\n",
       "      <td>Male</td>\n",
       "      <td>71.730978</td>\n",
       "      <td>220.042470</td>\n",
       "    </tr>\n",
       "    <tr>\n",
       "      <th>4</th>\n",
       "      <td>Male</td>\n",
       "      <td>69.881796</td>\n",
       "      <td>206.349801</td>\n",
       "    </tr>\n",
       "  </tbody>\n",
       "</table>\n",
       "</div>"
      ],
      "text/plain": [
       "  Gender     Height      Weight\n",
       "0   Male  73.847017  241.893563\n",
       "1   Male  68.781904  162.310473\n",
       "2   Male  74.110105  212.740856\n",
       "3   Male  71.730978  220.042470\n",
       "4   Male  69.881796  206.349801"
      ]
     },
     "execution_count": 5,
     "metadata": {},
     "output_type": "execute_result"
    }
   ],
   "source": [
    "df.head()"
   ]
  },
  {
   "cell_type": "code",
   "execution_count": 6,
   "id": "cea30505",
   "metadata": {},
   "outputs": [
    {
     "data": {
      "text/html": [
       "<div>\n",
       "<style scoped>\n",
       "    .dataframe tbody tr th:only-of-type {\n",
       "        vertical-align: middle;\n",
       "    }\n",
       "\n",
       "    .dataframe tbody tr th {\n",
       "        vertical-align: top;\n",
       "    }\n",
       "\n",
       "    .dataframe thead th {\n",
       "        text-align: right;\n",
       "    }\n",
       "</style>\n",
       "<table border=\"1\" class=\"dataframe\">\n",
       "  <thead>\n",
       "    <tr style=\"text-align: right;\">\n",
       "      <th></th>\n",
       "      <th>Height</th>\n",
       "      <th>Weight</th>\n",
       "    </tr>\n",
       "  </thead>\n",
       "  <tbody>\n",
       "    <tr>\n",
       "      <th>count</th>\n",
       "      <td>10000.000000</td>\n",
       "      <td>10000.000000</td>\n",
       "    </tr>\n",
       "    <tr>\n",
       "      <th>mean</th>\n",
       "      <td>66.367560</td>\n",
       "      <td>161.440357</td>\n",
       "    </tr>\n",
       "    <tr>\n",
       "      <th>std</th>\n",
       "      <td>3.847528</td>\n",
       "      <td>32.108439</td>\n",
       "    </tr>\n",
       "    <tr>\n",
       "      <th>min</th>\n",
       "      <td>54.263133</td>\n",
       "      <td>64.700127</td>\n",
       "    </tr>\n",
       "    <tr>\n",
       "      <th>25%</th>\n",
       "      <td>63.505620</td>\n",
       "      <td>135.818051</td>\n",
       "    </tr>\n",
       "    <tr>\n",
       "      <th>50%</th>\n",
       "      <td>66.318070</td>\n",
       "      <td>161.212928</td>\n",
       "    </tr>\n",
       "    <tr>\n",
       "      <th>75%</th>\n",
       "      <td>69.174262</td>\n",
       "      <td>187.169525</td>\n",
       "    </tr>\n",
       "    <tr>\n",
       "      <th>max</th>\n",
       "      <td>78.998742</td>\n",
       "      <td>269.989699</td>\n",
       "    </tr>\n",
       "  </tbody>\n",
       "</table>\n",
       "</div>"
      ],
      "text/plain": [
       "             Height        Weight\n",
       "count  10000.000000  10000.000000\n",
       "mean      66.367560    161.440357\n",
       "std        3.847528     32.108439\n",
       "min       54.263133     64.700127\n",
       "25%       63.505620    135.818051\n",
       "50%       66.318070    161.212928\n",
       "75%       69.174262    187.169525\n",
       "max       78.998742    269.989699"
      ]
     },
     "execution_count": 6,
     "metadata": {},
     "output_type": "execute_result"
    }
   ],
   "source": [
    "df.describe()"
   ]
  },
  {
   "cell_type": "code",
   "execution_count": 7,
   "id": "a50561cd",
   "metadata": {},
   "outputs": [
    {
     "name": "stdout",
     "output_type": "stream",
     "text": [
      "<class 'pandas.core.frame.DataFrame'>\n",
      "RangeIndex: 10000 entries, 0 to 9999\n",
      "Data columns (total 3 columns):\n",
      " #   Column  Non-Null Count  Dtype  \n",
      "---  ------  --------------  -----  \n",
      " 0   Gender  10000 non-null  object \n",
      " 1   Height  10000 non-null  float64\n",
      " 2   Weight  10000 non-null  float64\n",
      "dtypes: float64(2), object(1)\n",
      "memory usage: 234.5+ KB\n"
     ]
    }
   ],
   "source": [
    "df.info()"
   ]
  },
  {
   "cell_type": "code",
   "execution_count": 8,
   "id": "6b103f7d",
   "metadata": {},
   "outputs": [
    {
     "name": "stdout",
     "output_type": "stream",
     "text": [
      "Pakistan\n",
      "  Gender     Height      Weight\n",
      "0   Male  73.847017  241.893563\n",
      "1   Male  68.781904  162.310473\n",
      "2   Male  74.110105  212.740856\n",
      "3   Male  71.730978  220.042470\n",
      "4   Male  69.881796  206.349801\n",
      "ABC\n"
     ]
    }
   ],
   "source": [
    "print(\"Pakistan\")\n",
    "print(df.head())\n",
    "print(\"ABC\")"
   ]
  },
  {
   "cell_type": "code",
   "execution_count": 9,
   "id": "da0e21c4",
   "metadata": {},
   "outputs": [
    {
     "name": "stdout",
     "output_type": "stream",
     "text": [
      "Pakistan\n"
     ]
    },
    {
     "data": {
      "text/html": [
       "<div>\n",
       "<style scoped>\n",
       "    .dataframe tbody tr th:only-of-type {\n",
       "        vertical-align: middle;\n",
       "    }\n",
       "\n",
       "    .dataframe tbody tr th {\n",
       "        vertical-align: top;\n",
       "    }\n",
       "\n",
       "    .dataframe thead th {\n",
       "        text-align: right;\n",
       "    }\n",
       "</style>\n",
       "<table border=\"1\" class=\"dataframe\">\n",
       "  <thead>\n",
       "    <tr style=\"text-align: right;\">\n",
       "      <th></th>\n",
       "      <th>Gender</th>\n",
       "      <th>Height</th>\n",
       "      <th>Weight</th>\n",
       "    </tr>\n",
       "  </thead>\n",
       "  <tbody>\n",
       "    <tr>\n",
       "      <th>0</th>\n",
       "      <td>Male</td>\n",
       "      <td>73.847017</td>\n",
       "      <td>241.893563</td>\n",
       "    </tr>\n",
       "    <tr>\n",
       "      <th>1</th>\n",
       "      <td>Male</td>\n",
       "      <td>68.781904</td>\n",
       "      <td>162.310473</td>\n",
       "    </tr>\n",
       "    <tr>\n",
       "      <th>2</th>\n",
       "      <td>Male</td>\n",
       "      <td>74.110105</td>\n",
       "      <td>212.740856</td>\n",
       "    </tr>\n",
       "    <tr>\n",
       "      <th>3</th>\n",
       "      <td>Male</td>\n",
       "      <td>71.730978</td>\n",
       "      <td>220.042470</td>\n",
       "    </tr>\n",
       "    <tr>\n",
       "      <th>4</th>\n",
       "      <td>Male</td>\n",
       "      <td>69.881796</td>\n",
       "      <td>206.349801</td>\n",
       "    </tr>\n",
       "  </tbody>\n",
       "</table>\n",
       "</div>"
      ],
      "text/plain": [
       "  Gender     Height      Weight\n",
       "0   Male  73.847017  241.893563\n",
       "1   Male  68.781904  162.310473\n",
       "2   Male  74.110105  212.740856\n",
       "3   Male  71.730978  220.042470\n",
       "4   Male  69.881796  206.349801"
      ]
     },
     "metadata": {},
     "output_type": "display_data"
    },
    {
     "name": "stdout",
     "output_type": "stream",
     "text": [
      "ABC\n"
     ]
    }
   ],
   "source": [
    "print(\"Pakistan\")\n",
    "display(df.head())\n",
    "print(\"ABC\")"
   ]
  },
  {
   "cell_type": "code",
   "execution_count": 10,
   "id": "a737bef5",
   "metadata": {},
   "outputs": [
    {
     "data": {
      "text/plain": [
       "array([73.84701702, 68.78190405, 74.11010539, ..., 63.86799221,\n",
       "       69.03424313, 61.94424588])"
      ]
     },
     "execution_count": 10,
     "metadata": {},
     "output_type": "execute_result"
    }
   ],
   "source": [
    "X = df.Height.values\n",
    "X"
   ]
  },
  {
   "cell_type": "code",
   "execution_count": 11,
   "id": "3c31f54f",
   "metadata": {},
   "outputs": [
    {
     "data": {
      "text/plain": [
       "array([241.89356318, 162.31047252, 212.74085556, ..., 128.47531878,\n",
       "       163.85246135, 113.64910268])"
      ]
     },
     "execution_count": 11,
     "metadata": {},
     "output_type": "execute_result"
    }
   ],
   "source": [
    "Y = df.Weight.values\n",
    "Y"
   ]
  },
  {
   "cell_type": "code",
   "execution_count": 12,
   "id": "2768ee66",
   "metadata": {},
   "outputs": [
    {
     "data": {
      "text/plain": [
       "73.847017017515"
      ]
     },
     "execution_count": 12,
     "metadata": {},
     "output_type": "execute_result"
    }
   ],
   "source": [
    "X[0]"
   ]
  },
  {
   "cell_type": "code",
   "execution_count": 13,
   "id": "33390efc",
   "metadata": {},
   "outputs": [
    {
     "data": {
      "text/plain": [
       "array([[73.84701702],\n",
       "       [68.78190405],\n",
       "       [74.11010539],\n",
       "       ...,\n",
       "       [63.86799221],\n",
       "       [69.03424313],\n",
       "       [61.94424588]])"
      ]
     },
     "execution_count": 13,
     "metadata": {},
     "output_type": "execute_result"
    }
   ],
   "source": [
    "X = df[[\"Height\"]].values\n",
    "X"
   ]
  },
  {
   "cell_type": "code",
   "execution_count": 14,
   "id": "3a1b71dd",
   "metadata": {},
   "outputs": [
    {
     "data": {
      "text/plain": [
       "array([73.84701702])"
      ]
     },
     "execution_count": 14,
     "metadata": {},
     "output_type": "execute_result"
    }
   ],
   "source": [
    "X[0]"
   ]
  },
  {
   "cell_type": "code",
   "execution_count": 15,
   "id": "1cbe4469",
   "metadata": {},
   "outputs": [
    {
     "data": {
      "text/plain": [
       "array([[241.89356318],\n",
       "       [162.31047252],\n",
       "       [212.74085556],\n",
       "       ...,\n",
       "       [128.47531878],\n",
       "       [163.85246135],\n",
       "       [113.64910268]])"
      ]
     },
     "execution_count": 15,
     "metadata": {},
     "output_type": "execute_result"
    }
   ],
   "source": [
    "Y = df[[\"Weight\"]].values\n",
    "Y"
   ]
  },
  {
   "cell_type": "code",
   "execution_count": 16,
   "id": "e4e732f3",
   "metadata": {},
   "outputs": [
    {
     "data": {
      "text/plain": [
       "array([241.89356318])"
      ]
     },
     "execution_count": 16,
     "metadata": {},
     "output_type": "execute_result"
    }
   ],
   "source": [
    "Y[0]"
   ]
  },
  {
   "cell_type": "code",
   "execution_count": 17,
   "id": "1817f5eb",
   "metadata": {},
   "outputs": [
    {
     "name": "stdout",
     "output_type": "stream",
     "text": [
      "(10000, 1)\n",
      "(10000, 1)\n"
     ]
    }
   ],
   "source": [
    "print(X.shape)\n",
    "print(Y.shape)"
   ]
  },
  {
   "cell_type": "code",
   "execution_count": 18,
   "id": "1cb51517",
   "metadata": {},
   "outputs": [
    {
     "data": {
      "text/plain": [
       "(1,)"
      ]
     },
     "execution_count": 18,
     "metadata": {},
     "output_type": "execute_result"
    }
   ],
   "source": [
    "X[0].shape"
   ]
  },
  {
   "cell_type": "code",
   "execution_count": 27,
   "id": "6b2d745b",
   "metadata": {},
   "outputs": [
    {
     "data": {
      "text/plain": [
       "array(27)"
      ]
     },
     "metadata": {},
     "output_type": "display_data"
    },
    {
     "data": {
      "text/plain": [
       "array([1, 2, 3, 4])"
      ]
     },
     "metadata": {},
     "output_type": "display_data"
    },
    {
     "data": {
      "text/plain": [
       "array([[1, 2, 3],\n",
       "       [4, 5, 6]])"
      ]
     },
     "metadata": {},
     "output_type": "display_data"
    },
    {
     "data": {
      "text/plain": [
       "0"
      ]
     },
     "metadata": {},
     "output_type": "display_data"
    },
    {
     "data": {
      "text/plain": [
       "1"
      ]
     },
     "metadata": {},
     "output_type": "display_data"
    },
    {
     "data": {
      "text/plain": [
       "2"
      ]
     },
     "metadata": {},
     "output_type": "display_data"
    },
    {
     "data": {
      "text/plain": [
       "()"
      ]
     },
     "metadata": {},
     "output_type": "display_data"
    },
    {
     "data": {
      "text/plain": [
       "(4,)"
      ]
     },
     "metadata": {},
     "output_type": "display_data"
    },
    {
     "data": {
      "text/plain": [
       "(2, 3)"
      ]
     },
     "metadata": {},
     "output_type": "display_data"
    }
   ],
   "source": [
    "display(np.array(27))\n",
    "display(np.array([1,2,3,4]))\n",
    "display(np.array([[1,2,3],[4,5,6]]))\n",
    "\n",
    "display(np.array(27).ndim)\n",
    "display(np.array([1,2,3,4]).ndim)\n",
    "display(np.array([[1,2,3],[4,5,6]]).ndim)\n",
    "\n",
    "display(np.array(27).shape)\n",
    "display(np.array([1,2,3,4]).shape)\n",
    "display(np.array([[1,2,3],[4,5,6]]).shape)"
   ]
  },
  {
   "cell_type": "markdown",
   "id": "918a85b5",
   "metadata": {},
   "source": [
    "# Create Neural Network"
   ]
  },
  {
   "cell_type": "code",
   "execution_count": 29,
   "id": "48bb2cbd",
   "metadata": {},
   "outputs": [
    {
     "name": "stdout",
     "output_type": "stream",
     "text": [
      "[73.84701702]\n"
     ]
    },
    {
     "data": {
      "text/plain": [
       "(1,)"
      ]
     },
     "metadata": {},
     "output_type": "display_data"
    }
   ],
   "source": [
    "print(X[0])\n",
    "display(X[0].shape)"
   ]
  },
  {
   "cell_type": "code",
   "execution_count": 31,
   "id": "9d03d54e",
   "metadata": {},
   "outputs": [
    {
     "data": {
      "text/html": [
       "<div>\n",
       "<style scoped>\n",
       "    .dataframe tbody tr th:only-of-type {\n",
       "        vertical-align: middle;\n",
       "    }\n",
       "\n",
       "    .dataframe tbody tr th {\n",
       "        vertical-align: top;\n",
       "    }\n",
       "\n",
       "    .dataframe thead th {\n",
       "        text-align: right;\n",
       "    }\n",
       "</style>\n",
       "<table border=\"1\" class=\"dataframe\">\n",
       "  <thead>\n",
       "    <tr style=\"text-align: right;\">\n",
       "      <th></th>\n",
       "      <th>Gender</th>\n",
       "      <th>Height</th>\n",
       "      <th>Weight</th>\n",
       "    </tr>\n",
       "  </thead>\n",
       "  <tbody>\n",
       "    <tr>\n",
       "      <th>0</th>\n",
       "      <td>Male</td>\n",
       "      <td>73.847017</td>\n",
       "      <td>241.893563</td>\n",
       "    </tr>\n",
       "  </tbody>\n",
       "</table>\n",
       "</div>"
      ],
      "text/plain": [
       "  Gender     Height      Weight\n",
       "0   Male  73.847017  241.893563"
      ]
     },
     "execution_count": 31,
     "metadata": {},
     "output_type": "execute_result"
    }
   ],
   "source": [
    "df.head(1)"
   ]
  },
  {
   "cell_type": "code",
   "execution_count": 33,
   "id": "72eeca7a",
   "metadata": {},
   "outputs": [
    {
     "data": {
      "text/plain": [
       "array([[ 73.84701702, 241.89356318],\n",
       "       [ 68.78190405, 162.31047252],\n",
       "       [ 74.11010539, 212.74085556],\n",
       "       ...,\n",
       "       [ 63.86799221, 128.47531878],\n",
       "       [ 69.03424313, 163.85246135],\n",
       "       [ 61.94424588, 113.64910268]])"
      ]
     },
     "execution_count": 33,
     "metadata": {},
     "output_type": "execute_result"
    }
   ],
   "source": [
    "df[[\"Height\", \"Weight\"]].values"
   ]
  },
  {
   "cell_type": "code",
   "execution_count": 35,
   "id": "70fdab6b",
   "metadata": {},
   "outputs": [
    {
     "data": {
      "text/plain": [
       "(2,)"
      ]
     },
     "execution_count": 35,
     "metadata": {},
     "output_type": "execute_result"
    }
   ],
   "source": [
    "df[[\"Height\", \"Weight\"]].values[0].shape"
   ]
  },
  {
   "cell_type": "code",
   "execution_count": 36,
   "id": "8a1f6589",
   "metadata": {},
   "outputs": [],
   "source": [
    "model = Sequential()\n",
    "model.add(Dense(1, input_shape=(1,)))"
   ]
  },
  {
   "cell_type": "code",
   "execution_count": 37,
   "id": "26f0e715",
   "metadata": {},
   "outputs": [
    {
     "name": "stdout",
     "output_type": "stream",
     "text": [
      "Model: \"sequential\"\n",
      "_________________________________________________________________\n",
      " Layer (type)                Output Shape              Param #   \n",
      "=================================================================\n",
      " dense (Dense)               (None, 1)                 2         \n",
      "                                                                 \n",
      "=================================================================\n",
      "Total params: 2\n",
      "Trainable params: 2\n",
      "Non-trainable params: 0\n",
      "_________________________________________________________________\n"
     ]
    }
   ],
   "source": [
    "model.summary()"
   ]
  },
  {
   "cell_type": "markdown",
   "id": "0203dc02",
   "metadata": {},
   "source": [
    "# Complilation Step"
   ]
  },
  {
   "cell_type": "code",
   "execution_count": 44,
   "id": "0fad3289",
   "metadata": {},
   "outputs": [],
   "source": [
    "model.compile(Adam(learning_rate=0.8), 'mean_squared_error')"
   ]
  },
  {
   "cell_type": "markdown",
   "id": "aaa49a7b",
   "metadata": {},
   "source": [
    "# split Data before Trainig Data"
   ]
  },
  {
   "cell_type": "code",
   "execution_count": 45,
   "id": "904afde8",
   "metadata": {},
   "outputs": [],
   "source": [
    "X_train = X[:8000]\n",
    "Y_train = Y[:8000]\n",
    "\n",
    "X_test = X[8000:]\n",
    "Y_test = Y[8000:]"
   ]
  },
  {
   "cell_type": "code",
   "execution_count": 46,
   "id": "610c2d36",
   "metadata": {},
   "outputs": [
    {
     "name": "stdout",
     "output_type": "stream",
     "text": [
      "8000\n",
      "2000\n"
     ]
    }
   ],
   "source": [
    "print(len(X_train))\n",
    "print(len(X_test))"
   ]
  },
  {
   "cell_type": "markdown",
   "id": "5cf9ba1c",
   "metadata": {},
   "source": [
    "# Now Starting Training"
   ]
  },
  {
   "cell_type": "code",
   "execution_count": 49,
   "id": "233f8313",
   "metadata": {},
   "outputs": [
    {
     "name": "stdout",
     "output_type": "stream",
     "text": [
      "Epoch 1/40\n",
      "63/63 [==============================] - 0s 2ms/step - loss: 335.9301\n",
      "Epoch 2/40\n",
      "63/63 [==============================] - 0s 1ms/step - loss: 318.3848\n",
      "Epoch 3/40\n",
      "63/63 [==============================] - 0s 2ms/step - loss: 309.7588\n",
      "Epoch 4/40\n",
      "63/63 [==============================] - 0s 2ms/step - loss: 299.5925\n",
      "Epoch 5/40\n",
      "63/63 [==============================] - 0s 2ms/step - loss: 290.9958\n",
      "Epoch 6/40\n",
      "63/63 [==============================] - 0s 2ms/step - loss: 290.3603\n",
      "Epoch 7/40\n",
      "63/63 [==============================] - 0s 2ms/step - loss: 284.0317\n",
      "Epoch 8/40\n",
      "63/63 [==============================] - 0s 2ms/step - loss: 270.9366\n",
      "Epoch 9/40\n",
      "63/63 [==============================] - 0s 2ms/step - loss: 280.1689\n",
      "Epoch 10/40\n",
      "63/63 [==============================] - 0s 2ms/step - loss: 280.4980\n",
      "Epoch 11/40\n",
      "63/63 [==============================] - 0s 2ms/step - loss: 249.4763\n",
      "Epoch 12/40\n",
      "63/63 [==============================] - 0s 2ms/step - loss: 245.0381\n",
      "Epoch 13/40\n",
      "63/63 [==============================] - 0s 2ms/step - loss: 243.9828\n",
      "Epoch 14/40\n",
      "63/63 [==============================] - 0s 2ms/step - loss: 239.0720\n",
      "Epoch 15/40\n",
      "63/63 [==============================] - 0s 2ms/step - loss: 243.0223\n",
      "Epoch 16/40\n",
      "63/63 [==============================] - 0s 2ms/step - loss: 244.5094\n",
      "Epoch 17/40\n",
      "63/63 [==============================] - 0s 2ms/step - loss: 219.9833\n",
      "Epoch 18/40\n",
      "63/63 [==============================] - 0s 2ms/step - loss: 225.0078\n",
      "Epoch 19/40\n",
      "63/63 [==============================] - 0s 2ms/step - loss: 220.6808\n",
      "Epoch 20/40\n",
      "63/63 [==============================] - 0s 2ms/step - loss: 224.2009\n",
      "Epoch 21/40\n",
      "63/63 [==============================] - 0s 2ms/step - loss: 208.1785\n",
      "Epoch 22/40\n",
      "63/63 [==============================] - 0s 2ms/step - loss: 208.6995\n",
      "Epoch 23/40\n",
      "63/63 [==============================] - 0s 2ms/step - loss: 195.8330\n",
      "Epoch 24/40\n",
      "63/63 [==============================] - 0s 2ms/step - loss: 198.3092\n",
      "Epoch 25/40\n",
      "63/63 [==============================] - 0s 2ms/step - loss: 191.1944\n",
      "Epoch 26/40\n",
      "63/63 [==============================] - 0s 2ms/step - loss: 189.4850\n",
      "Epoch 27/40\n",
      "63/63 [==============================] - 0s 2ms/step - loss: 189.1847\n",
      "Epoch 28/40\n",
      "63/63 [==============================] - 0s 2ms/step - loss: 194.2409\n",
      "Epoch 29/40\n",
      "63/63 [==============================] - 0s 2ms/step - loss: 180.3608\n",
      "Epoch 30/40\n",
      "63/63 [==============================] - 0s 2ms/step - loss: 191.1007\n",
      "Epoch 31/40\n",
      "63/63 [==============================] - 0s 2ms/step - loss: 175.7915\n",
      "Epoch 32/40\n",
      "63/63 [==============================] - 0s 2ms/step - loss: 178.3222\n",
      "Epoch 33/40\n",
      "63/63 [==============================] - 0s 2ms/step - loss: 182.8541\n",
      "Epoch 34/40\n",
      "63/63 [==============================] - 0s 2ms/step - loss: 179.0135\n",
      "Epoch 35/40\n",
      "63/63 [==============================] - 0s 2ms/step - loss: 185.9425\n",
      "Epoch 36/40\n",
      "63/63 [==============================] - 0s 2ms/step - loss: 173.3995\n",
      "Epoch 37/40\n",
      "63/63 [==============================] - 0s 2ms/step - loss: 175.5494\n",
      "Epoch 38/40\n",
      "63/63 [==============================] - 0s 2ms/step - loss: 169.1782\n",
      "Epoch 39/40\n",
      "63/63 [==============================] - 0s 2ms/step - loss: 175.4102\n",
      "Epoch 40/40\n",
      "63/63 [==============================] - 0s 1ms/step - loss: 178.0169\n"
     ]
    },
    {
     "data": {
      "text/plain": [
       "<keras.callbacks.History at 0x2a78faeacd0>"
      ]
     },
     "execution_count": 49,
     "metadata": {},
     "output_type": "execute_result"
    }
   ],
   "source": [
    "model.fit(X_train, Y_train, batch_size= 128, epochs=40)"
   ]
  },
  {
   "cell_type": "markdown",
   "id": "61233a91",
   "metadata": {},
   "source": [
    "# Test on unseen_data"
   ]
  },
  {
   "cell_type": "code",
   "execution_count": 50,
   "id": "b33566fa",
   "metadata": {},
   "outputs": [
    {
     "name": "stdout",
     "output_type": "stream",
     "text": [
      "63/63 [==============================] - 0s 1ms/step - loss: 303.3047\n"
     ]
    },
    {
     "data": {
      "text/plain": [
       "303.3046875"
      ]
     },
     "execution_count": 50,
     "metadata": {},
     "output_type": "execute_result"
    }
   ],
   "source": [
    "model.evaluate(X_test, Y_test)"
   ]
  },
  {
   "cell_type": "markdown",
   "id": "43cc3515",
   "metadata": {},
   "source": [
    "# Predict model"
   ]
  },
  {
   "cell_type": "code",
   "execution_count": 51,
   "id": "b5a3d3ef",
   "metadata": {},
   "outputs": [
    {
     "name": "stdout",
     "output_type": "stream",
     "text": [
      "313/313 [==============================] - 1s 3ms/step\n"
     ]
    },
    {
     "data": {
      "text/plain": [
       "array([[219.85977],\n",
       "       [185.02383],\n",
       "       [221.66925],\n",
       "       ...,\n",
       "       [151.22775],\n",
       "       [186.75931],\n",
       "       [137.99692]], dtype=float32)"
      ]
     },
     "execution_count": 51,
     "metadata": {},
     "output_type": "execute_result"
    }
   ],
   "source": [
    "y_pred = model.predict(X)\n",
    "y_pred"
   ]
  },
  {
   "cell_type": "code",
   "execution_count": 52,
   "id": "12d402c3",
   "metadata": {},
   "outputs": [
    {
     "data": {
      "text/plain": [
       "array([[118.51301293],\n",
       "       [122.56183473],\n",
       "       [106.78231003],\n",
       "       ...,\n",
       "       [128.47531878],\n",
       "       [163.85246135],\n",
       "       [113.64910268]])"
      ]
     },
     "execution_count": 52,
     "metadata": {},
     "output_type": "execute_result"
    }
   ],
   "source": [
    "Y_test"
   ]
  },
  {
   "cell_type": "code",
   "execution_count": 67,
   "id": "be89bd25",
   "metadata": {},
   "outputs": [
    {
     "data": {
      "image/png": "[encoded data removed]",
      "text/plain": [
       "<Figure size 640x480 with 1 Axes>"
      ]
     },
     "metadata": {},
     "output_type": "display_data"
    }
   ],
   "source": [
    "import matplotlib.pyplot as plt\n",
    "df.plot(kind='scatter',\n",
    "        x = \"Height\",\n",
    "        y = \"Weight\",\n",
    "        title = \"Weight and Height\")\n",
    "plt.plot(X, y_pred, color = \"red\", linewidth= 2)\n",
    "plt.show()\n",
    "\n",
    "# df.plot(kind='scatter',\n",
    "#         x=\"Height\",\n",
    "#         y=\"Weight\",\n",
    "#         title=\"Weight and Height\")\n",
    "# plt.plot(X,y_pred, color='red', linewidth=2)\n",
    "     "
   ]
  },
  {
   "cell_type": "code",
   "execution_count": 68,
   "id": "41b161f5",
   "metadata": {},
   "outputs": [],
   "source": [
    "w, b = model.get_weights()"
   ]
  },
  {
   "cell_type": "code",
   "execution_count": 69,
   "id": "6a070cce",
   "metadata": {},
   "outputs": [
    {
     "name": "stdout",
     "output_type": "stream",
     "text": [
      "[[6.8776307]]\n",
      "[-288.0327]\n"
     ]
    }
   ],
   "source": [
    "print(w)\n",
    "print(b)"
   ]
  },
  {
   "cell_type": "code",
   "execution_count": 73,
   "id": "88b8e1ba",
   "metadata": {},
   "outputs": [
    {
     "name": "stdout",
     "output_type": "stream",
     "text": [
      "1/1 [==============================] - 0s 100ms/step\n"
     ]
    },
    {
     "data": {
      "text/plain": [
       "array([[537.28296]], dtype=float32)"
      ]
     },
     "execution_count": 73,
     "metadata": {},
     "output_type": "execute_result"
    }
   ],
   "source": [
    "model.predict([120])"
   ]
  },
  {
   "cell_type": "code",
   "execution_count": 79,
   "id": "3cdff01e",
   "metadata": {},
   "outputs": [
    {
     "name": "stdout",
     "output_type": "stream",
     "text": [
      "1/1 [==============================] - 0s 45ms/step\n"
     ]
    },
    {
     "data": {
      "image/png": "[encoded data removed]",
      "text/plain": [
       "<Figure size 640x480 with 1 Axes>"
      ]
     },
     "metadata": {},
     "output_type": "display_data"
    }
   ],
   "source": [
    "run_height =70\n",
    "\n",
    "df.plot(kind='scatter',\n",
    "        x = \"Height\",\n",
    "        y = \"Weight\",\n",
    "        title = \"Weight and Height\")\n",
    "plt.plot(X, y_pred, color = \"red\", linewidth= 2)\n",
    "\n",
    "plt.scatter(x=run_height,\n",
    "           y =model.predict([run_height]),\n",
    "           color = \"orange\")\n",
    "plt.show()"
   ]
  },
  {
   "cell_type": "code",
   "execution_count": null,
   "id": "8a21b526",
   "metadata": {},
   "outputs": [],
   "source": []
  }
 ],
 "metadata": {
  "kernelspec": {
   "display_name": "Python 3 (ipykernel)",
   "language": "python",
   "name": "python3"
  },
  "language_info": {
   "codemirror_mode": {
    "name": "ipython",
    "version": 3
   },
   "file_extension": ".py",
   "mimetype": "text/x-python",
   "name": "python",
   "nbconvert_exporter": "python",
   "pygments_lexer": "ipython3",
   "version": "3.9.13"
  }
 },
 "nbformat": 4,
 "nbformat_minor": 5
}
